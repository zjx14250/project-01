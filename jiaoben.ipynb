{
 "cells": [
  {
   "cell_type": "code",
   "execution_count": 1,
   "metadata": {},
   "outputs": [
    {
     "name": "stderr",
     "output_type": "stream",
     "text": [
      "/home/zjx/anaconda3/envs/qlib-master/lib/python3.8/site-packages/tqdm/auto.py:21: TqdmWarning: IProgress not found. Please update jupyter and ipywidgets. See https://ipywidgets.readthedocs.io/en/stable/user_install.html\n",
      "  from .autonotebook import tqdm as notebook_tqdm\n"
     ]
    }
   ],
   "source": [
    "\n",
    "import os\n",
    "import torch as torch\n",
    "import pickle\n",
    "\n",
    "market_name = 'NASDAQ'\n",
    "\n",
    "dataset_path = 'dataset/' + market_name\n",
    "\n",
    "with open(os.path.join(dataset_path, \"eod_data.pkl\"), \"rb\") as f:\n",
    "    eod_data = pickle.load(f)\n",
    "with open(os.path.join(dataset_path, \"mask_data.pkl\"), \"rb\") as f:\n",
    "    mask_data = pickle.load(f)\n",
    "with open(os.path.join(dataset_path, \"gt_data.pkl\"), \"rb\") as f:\n",
    "    gt_data = pickle.load(f)\n",
    "with open(os.path.join(dataset_path, \"price_data.pkl\"), \"rb\") as f:\n",
    "    price_data = pickle.load(f)"
   ]
  },
  {
   "cell_type": "code",
   "execution_count": 2,
   "metadata": {},
   "outputs": [
    {
     "name": "stdout",
     "output_type": "stream",
     "text": [
      "[[0.275333 0.271219 0.272316 ... 0.951735 0.962841 0.976964]\n",
      " [0.248031 0.252493 0.253806 ... 0.952756 0.951444 0.937008]\n",
      " [0.445018 0.439414 0.427177 ... 0.958976 0.960735 0.961019]\n",
      " ...\n",
      " [0.42501  0.425589 0.437766 ... 0.964824 0.975454 0.984345]\n",
      " [0.30288  0.303243 0.308567 ... 0.972289 0.985358 0.99758 ]\n",
      " [0.471014 0.51256  0.518841 ... 0.508454 0.51087  0.512077]]\n",
      "(1026, 1245)\n"
     ]
    }
   ],
   "source": [
    "print(price_data)\n",
    "print(price_data.shape)"
   ]
  },
  {
   "cell_type": "code",
   "execution_count": 7,
   "metadata": {},
   "outputs": [
    {
     "name": "stdout",
     "output_type": "stream",
     "text": [
      "eod_data.shape: (1026, 1245)\n",
      "eod_data中是否存在大于1的值: True\n",
      "eod_data中的最大值: 1.100000023841858\n",
      "大于1的值的数量: 1728\n",
      "大于1的值的位置示例(前10个): [(8, 1231), (8, 1232), (8, 1233), (8, 1234), (8, 1235), (8, 1236), (8, 1237), (8, 1238), (8, 1239), (8, 1240)]\n"
     ]
    }
   ],
   "source": [
    "import os\n",
    "import pickle\n",
    "import numpy as np\n",
    "\n",
    "market_name = 'NASDAQ'\n",
    "dataset_path = 'dataset/' + market_name\n",
    "\n",
    "# 加载eod_data\n",
    "with open(os.path.join(dataset_path, \"price_data.pkl\"), \"rb\") as f:\n",
    "    eod_data = pickle.load(f)\n",
    "\n",
    "# 打印eod_data的形状\n",
    "print(f\"eod_data.shape: {eod_data.shape}\")\n",
    "\n",
    "# 检查eod_data中是否存在大于1的值\n",
    "has_values_greater_than_1 = np.any(eod_data > 1)\n",
    "max_value = np.max(eod_data)\n",
    "\n",
    "print(f\"eod_data中是否存在大于1的值: {has_values_greater_than_1}\")\n",
    "print(f\"eod_data中的最大值: {max_value}\")\n",
    "\n",
    "# 如果存在大于1的值，打印这些值的数量和位置\n",
    "if has_values_greater_than_1:\n",
    "    greater_than_1_count = np.sum(eod_data > 1)\n",
    "    greater_than_1_indices = np.where(eod_data > 1)\n",
    "    print(f\"大于1的值的数量: {greater_than_1_count}\")\n",
    "    print(f\"大于1的值的位置示例(前10个): {list(zip(*[i[:10] for i in greater_than_1_indices]))}\") "
   ]
  },
  {
   "cell_type": "code",
   "execution_count": 8,
   "metadata": {},
   "outputs": [
    {
     "name": "stdout",
     "output_type": "stream",
     "text": [
      "[[1. 1. 1. ... 1. 1. 1.]\n",
      " [1. 1. 1. ... 1. 1. 1.]\n",
      " [1. 1. 1. ... 1. 1. 1.]\n",
      " ...\n",
      " [1. 1. 1. ... 1. 1. 1.]\n",
      " [1. 1. 1. ... 1. 1. 1.]\n",
      " [1. 1. 1. ... 1. 1. 1.]]\n",
      "(1026, 1245)\n",
      "[[ 0.         -0.01494191  0.00404479 ...  0.01878863  0.01166917\n",
      "   0.01466807]\n",
      " [ 0.          0.01798964  0.00520015 ... -0.03328856 -0.00137708\n",
      "  -0.01517267]\n",
      " [ 0.         -0.01259275 -0.02784841 ... -0.00371412  0.0018343\n",
      "   0.00029556]\n",
      " ...\n",
      " [ 0.          0.00136232  0.02861209 ... -0.01886759  0.0110175\n",
      "   0.00911478]\n",
      " [ 0.          0.00119857  0.0175568  ... -0.00297884  0.01344145\n",
      "   0.01240361]\n",
      " [ 0.          0.08820549  0.01225421 ...  0.01937087  0.00475157\n",
      "   0.00236262]]\n",
      "(1026, 1245)\n",
      "[[0.275333 0.271219 0.272316 ... 0.951735 0.962841 0.976964]\n",
      " [0.248031 0.252493 0.253806 ... 0.952756 0.951444 0.937008]\n",
      " [0.445018 0.439414 0.427177 ... 0.958976 0.960735 0.961019]\n",
      " ...\n",
      " [0.42501  0.425589 0.437766 ... 0.964824 0.975454 0.984345]\n",
      " [0.30288  0.303243 0.308567 ... 0.972289 0.985358 0.99758 ]\n",
      " [0.471014 0.51256  0.518841 ... 0.508454 0.51087  0.512077]]\n",
      "(1026, 1245)\n"
     ]
    }
   ],
   "source": [
    "print(mask_data)\n",
    "print(mask_data.shape)\n",
    "print(gt_data)\n",
    "print(gt_data.shape)\n",
    "print(price_data)\n",
    "print(price_data.shape)"
   ]
  },
  {
   "cell_type": "code",
   "execution_count": 10,
   "metadata": {},
   "outputs": [
    {
     "name": "stdout",
     "output_type": "stream",
     "text": [
      "mask_data中0的数量: 1728\n",
      "mask_data中1的数量: 1275642\n",
      "总数据点数量: 1277370\n",
      "0的占比: 0.14%\n",
      "1的占比: 99.86%\n"
     ]
    }
   ],
   "source": [
    "# 统计mask_data中0和1的数量\n",
    "zeros_count = (mask_data == 0).sum()\n",
    "ones_count = (mask_data == 1).sum()\n",
    "\n",
    "print(f\"mask_data中0的数量: {zeros_count}\")\n",
    "print(f\"mask_data中1的数量: {ones_count}\")\n",
    "print(f\"总数据点数量: {mask_data.size}\")\n",
    "print(f\"0的占比: {zeros_count/mask_data.size*100:.2f}%\")\n",
    "print(f\"1的占比: {ones_count/mask_data.size*100:.2f}%\")"
   ]
  },
  {
   "cell_type": "code",
   "execution_count": 11,
   "metadata": {},
   "outputs": [
    {
     "name": "stdout",
     "output_type": "stream",
     "text": [
      "SP500数据形状: (474, 2526, 5)\n",
      "[[[0.13653708 0.13713569 0.13633367 0.03608551 0.13700788]\n",
      "  [0.13662301 0.1375307  0.13678475 0.02230004 0.13761357]\n",
      "  [0.1349902  0.13610524 0.13522329 0.02172257 0.13631565]\n",
      "  ...\n",
      "  [0.69567908 0.70331629 0.69386514 0.07277307 0.70045864]\n",
      "  [0.69329    0.69546774 0.66365937 0.05412213 0.67353124]\n",
      "  [0.66415731 0.68320536 0.65770844 0.06917312 0.68095528]]\n",
      "\n",
      " [[0.40426041 0.39552864 0.40436553 0.09072705 0.40175422]\n",
      "  [0.40402108 0.39711227 0.40654342 0.097402   0.40242158]\n",
      "  [0.4017712  0.39450395 0.40475268 0.16760683 0.40170654]\n",
      "  ...\n",
      "  [0.87343232 0.85756869 0.87532671 0.08900596 0.87348654]\n",
      "  [0.87745337 0.87452258 0.88713584 0.07099012 0.89341214]\n",
      "  [0.89640977 0.87498837 0.89352434 0.10202212 0.89055205]]\n",
      "\n",
      " [[0.43928987 0.43503576 0.43233263 0.05139081 0.43785674]\n",
      "  [0.43760186 0.44005072 0.43743404 0.0315252  0.43541062]\n",
      "  [0.42974389 0.427715   0.42482702 0.05358237 0.42679091]\n",
      "  ...\n",
      "  [0.68102444 0.67615867 0.67292135 0.02451036 0.67990681]\n",
      "  [0.67892897 0.67512108 0.66893401 0.01763096 0.67967384]\n",
      "  [0.67485448 0.68088544 0.67714324 0.02674193 0.68188703]]\n",
      "\n",
      " ...\n",
      "\n",
      " [[0.26094654 0.25981333 0.26032928 0.06741608 0.26527326]\n",
      "  [0.25971566 0.26079051 0.26373312 0.04252407 0.26539904]\n",
      "  [0.25516141 0.2539501  0.25011784 0.1336619  0.25156308]\n",
      "  ...\n",
      "  [0.78873493 0.79141611 0.79087051 0.03480279 0.81126644]\n",
      "  [0.78381617 0.7797488  0.77581861 0.03482774 0.78631849]\n",
      "  [0.76971989 0.78808259 0.7815322  0.04908784 0.80752731]]\n",
      "\n",
      " [[0.14331606 0.14586084 0.14491081 0.14698768 0.1471857 ]\n",
      "  [0.14943005 0.1531742  0.15068205 0.19366809 0.15221857]\n",
      "  [0.15025907 0.1492128  0.14805875 0.17436021 0.14605588]\n",
      "  ...\n",
      "  [0.71264245 0.7130523  0.7189926  0.08028402 0.71476988]\n",
      "  [0.70839379 0.69487055 0.69265477 0.12192174 0.68426461]\n",
      "  [0.68321244 0.69933977 0.69150052 0.10552668 0.69710356]]\n",
      "\n",
      " [[0.56154842 0.56771174 0.56704576 0.23564799 0.57297079]\n",
      "  [0.56565078 0.56984869 0.57211512 0.18621279 0.57387008]\n",
      "  [0.55827841 0.56177583 0.55847608 0.36342381 0.5582823 ]\n",
      "  ...\n",
      "  [0.8559282  0.86794944 0.863061   0.12953823 0.87482138]\n",
      "  [0.86159658 0.88115451 0.86756811 0.16344858 0.88796797]\n",
      "  [0.88162495 0.8875684  0.88789794 0.10310596 0.89130224]]]\n"
     ]
    }
   ],
   "source": [
    "import numpy as np\n",
    "\n",
    "\n",
    "# 2. 在您的项目中的实际使用示例\n",
    "# 以SP500数据为例\n",
    "sp500_data = np.load('dataset/SP500/SP500.npy')\n",
    "print(f\"SP500数据形状: {sp500_data.shape}\")\n",
    "\n",
    "# 选择部分数据（这里是从第915列开始的所有数据）\n",
    "data = sp500_data[:, 915:, :]\n",
    "# 提取价格数据（最后一列）\n",
    "print(data)"
   ]
  }
 ],
 "metadata": {
  "kernelspec": {
   "display_name": "qlib-master",
   "language": "python",
   "name": "python3"
  },
  "language_info": {
   "codemirror_mode": {
    "name": "ipython",
    "version": 3
   },
   "file_extension": ".py",
   "mimetype": "text/x-python",
   "name": "python",
   "nbconvert_exporter": "python",
   "pygments_lexer": "ipython3",
   "version": "3.8.20"
  }
 },
 "nbformat": 4,
 "nbformat_minor": 2
}
